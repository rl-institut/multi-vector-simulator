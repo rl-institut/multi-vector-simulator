{
 "cells": [
  {
   "cell_type": "code",
   "execution_count": 1,
   "metadata": {},
   "outputs": [
    {
     "name": "stderr",
     "output_type": "stream",
     "text": [
      "ERROR:root:Feed-in tariff of Electricity (0.043) > levelized costs of generation for energy asset 'Biogas' (based on is dispatch price) with 0.0034. This may cause an unbound solution and terminate the optimization, if there are no additional costs in the supply line. If this happens, please check the costs of your assets or the feed-in tariff. If both are correct, consider setting a maximum capacity constraint (maximumCap) for the relevant assets.\n"
     ]
    },
    {
     "name": "stdout",
     "output_type": "stream",
     "text": [
      "\n",
      "\n",
      "\n"
     ]
    },
    {
     "name": "stderr",
     "output_type": "stream",
     "text": [
      "c:\\users\\andra.backhaus\\.conda\\envs\\mvs\\lib\\site-packages\\pandas\\core\\computation\\expressions.py:178: UserWarning:\n",
      "\n",
      "evaluating in Python space because the '+' operator is not supported by numexpr for the bool dtype, use '|' instead\n",
      "\n",
      "ERROR:root:Feed-in tariff of Electricity (0.043) > levelized costs of generation for energy asset 'Biogas' (based on is dispatch price) with 0.0034. This may cause an unbound solution and terminate the optimization, if there are no additional costs in the supply line. If this happens, please check the costs of your assets or the feed-in tariff. If both are correct, consider setting a maximum capacity constraint (maximumCap) for the relevant assets.\n"
     ]
    },
    {
     "name": "stdout",
     "output_type": "stream",
     "text": [
      "\n",
      "\n",
      "\n"
     ]
    },
    {
     "name": "stderr",
     "output_type": "stream",
     "text": [
      "c:\\users\\andra.backhaus\\.conda\\envs\\mvs\\lib\\site-packages\\pandas\\core\\computation\\expressions.py:178: UserWarning:\n",
      "\n",
      "evaluating in Python space because the '+' operator is not supported by numexpr for the bool dtype, use '|' instead\n",
      "\n",
      "ERROR:root:Feed-in tariff of Electricity (0.043) > levelized costs of generation for energy asset 'Biogas' (based on is dispatch price) with 0.0034. This may cause an unbound solution and terminate the optimization, if there are no additional costs in the supply line. If this happens, please check the costs of your assets or the feed-in tariff. If both are correct, consider setting a maximum capacity constraint (maximumCap) for the relevant assets.\n"
     ]
    },
    {
     "name": "stdout",
     "output_type": "stream",
     "text": [
      "\n",
      "\n",
      "\n"
     ]
    },
    {
     "name": "stderr",
     "output_type": "stream",
     "text": [
      "c:\\users\\andra.backhaus\\.conda\\envs\\mvs\\lib\\site-packages\\pandas\\core\\computation\\expressions.py:178: UserWarning:\n",
      "\n",
      "evaluating in Python space because the '+' operator is not supported by numexpr for the bool dtype, use '|' instead\n",
      "\n",
      "ERROR:root:Feed-in tariff of Electricity (0.043) > levelized costs of generation for energy asset 'Biogas' (based on is dispatch price) with 0.0034. This may cause an unbound solution and terminate the optimization, if there are no additional costs in the supply line. If this happens, please check the costs of your assets or the feed-in tariff. If both are correct, consider setting a maximum capacity constraint (maximumCap) for the relevant assets.\n"
     ]
    },
    {
     "name": "stdout",
     "output_type": "stream",
     "text": [
      "\n",
      "\n",
      "\n"
     ]
    },
    {
     "name": "stderr",
     "output_type": "stream",
     "text": [
      "c:\\users\\andra.backhaus\\.conda\\envs\\mvs\\lib\\site-packages\\pandas\\core\\computation\\expressions.py:178: UserWarning:\n",
      "\n",
      "evaluating in Python space because the '+' operator is not supported by numexpr for the bool dtype, use '|' instead\n",
      "\n",
      "ERROR:root:Feed-in tariff of Electricity (0.043) > levelized costs of generation for energy asset 'Biogas' (based on is dispatch price) with 0.0034. This may cause an unbound solution and terminate the optimization, if there are no additional costs in the supply line. If this happens, please check the costs of your assets or the feed-in tariff. If both are correct, consider setting a maximum capacity constraint (maximumCap) for the relevant assets.\n"
     ]
    },
    {
     "name": "stdout",
     "output_type": "stream",
     "text": [
      "\n",
      "\n",
      "\n"
     ]
    },
    {
     "name": "stderr",
     "output_type": "stream",
     "text": [
      "c:\\users\\andra.backhaus\\.conda\\envs\\mvs\\lib\\site-packages\\pandas\\core\\computation\\expressions.py:178: UserWarning:\n",
      "\n",
      "evaluating in Python space because the '+' operator is not supported by numexpr for the bool dtype, use '|' instead\n",
      "\n",
      "ERROR:root:Feed-in tariff of Electricity (0.043) > levelized costs of generation for energy asset 'Biogas' (based on is dispatch price) with 0.0034. This may cause an unbound solution and terminate the optimization, if there are no additional costs in the supply line. If this happens, please check the costs of your assets or the feed-in tariff. If both are correct, consider setting a maximum capacity constraint (maximumCap) for the relevant assets.\n"
     ]
    },
    {
     "name": "stdout",
     "output_type": "stream",
     "text": [
      "\n",
      "\n",
      "\n"
     ]
    },
    {
     "name": "stderr",
     "output_type": "stream",
     "text": [
      "c:\\users\\andra.backhaus\\.conda\\envs\\mvs\\lib\\site-packages\\pandas\\core\\computation\\expressions.py:178: UserWarning:\n",
      "\n",
      "evaluating in Python space because the '+' operator is not supported by numexpr for the bool dtype, use '|' instead\n",
      "\n",
      "ERROR:root:Feed-in tariff of Electricity (0.043) > levelized costs of generation for energy asset 'Biogas' (based on is dispatch price) with 0.0034. This may cause an unbound solution and terminate the optimization, if there are no additional costs in the supply line. If this happens, please check the costs of your assets or the feed-in tariff. If both are correct, consider setting a maximum capacity constraint (maximumCap) for the relevant assets.\n"
     ]
    },
    {
     "name": "stdout",
     "output_type": "stream",
     "text": [
      "\n",
      "\n",
      "\n"
     ]
    },
    {
     "name": "stderr",
     "output_type": "stream",
     "text": [
      "c:\\users\\andra.backhaus\\.conda\\envs\\mvs\\lib\\site-packages\\pandas\\core\\computation\\expressions.py:178: UserWarning:\n",
      "\n",
      "evaluating in Python space because the '+' operator is not supported by numexpr for the bool dtype, use '|' instead\n",
      "\n",
      "ERROR:root:Feed-in tariff of Electricity (0.043) > levelized costs of generation for energy asset 'Biogas' (based on is dispatch price) with 0.0034. This may cause an unbound solution and terminate the optimization, if there are no additional costs in the supply line. If this happens, please check the costs of your assets or the feed-in tariff. If both are correct, consider setting a maximum capacity constraint (maximumCap) for the relevant assets.\n"
     ]
    },
    {
     "name": "stdout",
     "output_type": "stream",
     "text": [
      "\n",
      "\n",
      "\n"
     ]
    },
    {
     "name": "stderr",
     "output_type": "stream",
     "text": [
      "c:\\users\\andra.backhaus\\.conda\\envs\\mvs\\lib\\site-packages\\pandas\\core\\computation\\expressions.py:178: UserWarning:\n",
      "\n",
      "evaluating in Python space because the '+' operator is not supported by numexpr for the bool dtype, use '|' instead\n",
      "\n",
      "ERROR:root:Feed-in tariff of Electricity (0.043) > levelized costs of generation for energy asset 'Biogas' (based on is dispatch price) with 0.0034. This may cause an unbound solution and terminate the optimization, if there are no additional costs in the supply line. If this happens, please check the costs of your assets or the feed-in tariff. If both are correct, consider setting a maximum capacity constraint (maximumCap) for the relevant assets.\n"
     ]
    },
    {
     "name": "stdout",
     "output_type": "stream",
     "text": [
      "\n",
      "\n",
      "\n"
     ]
    },
    {
     "name": "stderr",
     "output_type": "stream",
     "text": [
      "c:\\users\\andra.backhaus\\.conda\\envs\\mvs\\lib\\site-packages\\pandas\\core\\computation\\expressions.py:178: UserWarning:\n",
      "\n",
      "evaluating in Python space because the '+' operator is not supported by numexpr for the bool dtype, use '|' instead\n",
      "\n",
      "ERROR:root:Feed-in tariff of Electricity (0.043) > levelized costs of generation for energy asset 'Biogas' (based on is dispatch price) with 0.0034. This may cause an unbound solution and terminate the optimization, if there are no additional costs in the supply line. If this happens, please check the costs of your assets or the feed-in tariff. If both are correct, consider setting a maximum capacity constraint (maximumCap) for the relevant assets.\n"
     ]
    },
    {
     "name": "stdout",
     "output_type": "stream",
     "text": [
      "\n",
      "\n",
      "\n"
     ]
    },
    {
     "name": "stderr",
     "output_type": "stream",
     "text": [
      "c:\\users\\andra.backhaus\\.conda\\envs\\mvs\\lib\\site-packages\\pandas\\core\\computation\\expressions.py:178: UserWarning:\n",
      "\n",
      "evaluating in Python space because the '+' operator is not supported by numexpr for the bool dtype, use '|' instead\n",
      "\n",
      "ERROR:root:Feed-in tariff of Electricity (0.043) > levelized costs of generation for energy asset 'Biogas' (based on is dispatch price) with 0.0034. This may cause an unbound solution and terminate the optimization, if there are no additional costs in the supply line. If this happens, please check the costs of your assets or the feed-in tariff. If both are correct, consider setting a maximum capacity constraint (maximumCap) for the relevant assets.\n"
     ]
    },
    {
     "name": "stdout",
     "output_type": "stream",
     "text": [
      "\n",
      "\n",
      "\n"
     ]
    },
    {
     "name": "stderr",
     "output_type": "stream",
     "text": [
      "c:\\users\\andra.backhaus\\.conda\\envs\\mvs\\lib\\site-packages\\pandas\\core\\computation\\expressions.py:178: UserWarning:\n",
      "\n",
      "evaluating in Python space because the '+' operator is not supported by numexpr for the bool dtype, use '|' instead\n",
      "\n",
      "ERROR:root:Feed-in tariff of Electricity (0.043) > levelized costs of generation for energy asset 'Biogas' (based on is dispatch price) with 0.0034. This may cause an unbound solution and terminate the optimization, if there are no additional costs in the supply line. If this happens, please check the costs of your assets or the feed-in tariff. If both are correct, consider setting a maximum capacity constraint (maximumCap) for the relevant assets.\n"
     ]
    },
    {
     "name": "stdout",
     "output_type": "stream",
     "text": [
      "\n",
      "\n",
      "\n"
     ]
    },
    {
     "name": "stderr",
     "output_type": "stream",
     "text": [
      "c:\\users\\andra.backhaus\\.conda\\envs\\mvs\\lib\\site-packages\\pandas\\core\\computation\\expressions.py:178: UserWarning:\n",
      "\n",
      "evaluating in Python space because the '+' operator is not supported by numexpr for the bool dtype, use '|' instead\n",
      "\n",
      "ERROR:root:Feed-in tariff of Electricity (0.043) > levelized costs of generation for energy asset 'Biogas' (based on is dispatch price) with 0.0034. This may cause an unbound solution and terminate the optimization, if there are no additional costs in the supply line. If this happens, please check the costs of your assets or the feed-in tariff. If both are correct, consider setting a maximum capacity constraint (maximumCap) for the relevant assets.\n"
     ]
    },
    {
     "name": "stdout",
     "output_type": "stream",
     "text": [
      "\n",
      "\n",
      "\n"
     ]
    },
    {
     "name": "stderr",
     "output_type": "stream",
     "text": [
      "c:\\users\\andra.backhaus\\.conda\\envs\\mvs\\lib\\site-packages\\pandas\\core\\computation\\expressions.py:178: UserWarning:\n",
      "\n",
      "evaluating in Python space because the '+' operator is not supported by numexpr for the bool dtype, use '|' instead\n",
      "\n",
      "ERROR:root:Feed-in tariff of Electricity (0.043) > levelized costs of generation for energy asset 'Biogas' (based on is dispatch price) with 0.0034. This may cause an unbound solution and terminate the optimization, if there are no additional costs in the supply line. If this happens, please check the costs of your assets or the feed-in tariff. If both are correct, consider setting a maximum capacity constraint (maximumCap) for the relevant assets.\n"
     ]
    },
    {
     "name": "stdout",
     "output_type": "stream",
     "text": [
      "\n",
      "\n",
      "\n"
     ]
    },
    {
     "name": "stderr",
     "output_type": "stream",
     "text": [
      "c:\\users\\andra.backhaus\\.conda\\envs\\mvs\\lib\\site-packages\\pandas\\core\\computation\\expressions.py:178: UserWarning:\n",
      "\n",
      "evaluating in Python space because the '+' operator is not supported by numexpr for the bool dtype, use '|' instead\n",
      "\n",
      "ERROR:root:Feed-in tariff of Electricity (0.043) > levelized costs of generation for energy asset 'Biogas' (based on is dispatch price) with 0.0034. This may cause an unbound solution and terminate the optimization, if there are no additional costs in the supply line. If this happens, please check the costs of your assets or the feed-in tariff. If both are correct, consider setting a maximum capacity constraint (maximumCap) for the relevant assets.\n"
     ]
    },
    {
     "name": "stdout",
     "output_type": "stream",
     "text": [
      "\n",
      "\n",
      "\n"
     ]
    },
    {
     "name": "stderr",
     "output_type": "stream",
     "text": [
      "c:\\users\\andra.backhaus\\.conda\\envs\\mvs\\lib\\site-packages\\pandas\\core\\computation\\expressions.py:178: UserWarning:\n",
      "\n",
      "evaluating in Python space because the '+' operator is not supported by numexpr for the bool dtype, use '|' instead\n",
      "\n",
      "ERROR:root:Feed-in tariff of Electricity (0.043) > levelized costs of generation for energy asset 'Biogas' (based on is dispatch price) with 0.0034. This may cause an unbound solution and terminate the optimization, if there are no additional costs in the supply line. If this happens, please check the costs of your assets or the feed-in tariff. If both are correct, consider setting a maximum capacity constraint (maximumCap) for the relevant assets.\n"
     ]
    },
    {
     "name": "stdout",
     "output_type": "stream",
     "text": [
      "\n",
      "\n",
      "\n"
     ]
    },
    {
     "name": "stderr",
     "output_type": "stream",
     "text": [
      "c:\\users\\andra.backhaus\\.conda\\envs\\mvs\\lib\\site-packages\\pandas\\core\\computation\\expressions.py:178: UserWarning:\n",
      "\n",
      "evaluating in Python space because the '+' operator is not supported by numexpr for the bool dtype, use '|' instead\n",
      "\n",
      "ERROR:root:Feed-in tariff of Electricity (0.043) > levelized costs of generation for energy asset 'Biogas' (based on is dispatch price) with 0.0034. This may cause an unbound solution and terminate the optimization, if there are no additional costs in the supply line. If this happens, please check the costs of your assets or the feed-in tariff. If both are correct, consider setting a maximum capacity constraint (maximumCap) for the relevant assets.\n"
     ]
    },
    {
     "name": "stdout",
     "output_type": "stream",
     "text": [
      "\n",
      "\n",
      "\n"
     ]
    },
    {
     "name": "stderr",
     "output_type": "stream",
     "text": [
      "c:\\users\\andra.backhaus\\.conda\\envs\\mvs\\lib\\site-packages\\pandas\\core\\computation\\expressions.py:178: UserWarning:\n",
      "\n",
      "evaluating in Python space because the '+' operator is not supported by numexpr for the bool dtype, use '|' instead\n",
      "\n",
      "ERROR:root:Feed-in tariff of Electricity (0.043) > levelized costs of generation for energy asset 'Biogas' (based on is dispatch price) with 0.0034. This may cause an unbound solution and terminate the optimization, if there are no additional costs in the supply line. If this happens, please check the costs of your assets or the feed-in tariff. If both are correct, consider setting a maximum capacity constraint (maximumCap) for the relevant assets.\n"
     ]
    },
    {
     "name": "stdout",
     "output_type": "stream",
     "text": [
      "\n",
      "\n",
      "\n"
     ]
    },
    {
     "name": "stderr",
     "output_type": "stream",
     "text": [
      "c:\\users\\andra.backhaus\\.conda\\envs\\mvs\\lib\\site-packages\\pandas\\core\\computation\\expressions.py:178: UserWarning:\n",
      "\n",
      "evaluating in Python space because the '+' operator is not supported by numexpr for the bool dtype, use '|' instead\n",
      "\n",
      "ERROR:root:Feed-in tariff of Electricity (0.043) > levelized costs of generation for energy asset 'Biogas' (based on is dispatch price) with 0.0034. This may cause an unbound solution and terminate the optimization, if there are no additional costs in the supply line. If this happens, please check the costs of your assets or the feed-in tariff. If both are correct, consider setting a maximum capacity constraint (maximumCap) for the relevant assets.\n"
     ]
    },
    {
     "name": "stdout",
     "output_type": "stream",
     "text": [
      "\n",
      "\n",
      "\n"
     ]
    },
    {
     "name": "stderr",
     "output_type": "stream",
     "text": [
      "c:\\users\\andra.backhaus\\.conda\\envs\\mvs\\lib\\site-packages\\pandas\\core\\computation\\expressions.py:178: UserWarning:\n",
      "\n",
      "evaluating in Python space because the '+' operator is not supported by numexpr for the bool dtype, use '|' instead\n",
      "\n"
     ]
    }
   ],
   "source": [
    "\"\"\"\n",
    "In this module the tests run over whole simulation from main, not just single functions of modules\n",
    "\n",
    "What should differ between the different functions is the input file\n",
    "\n",
    "\"\"\"\n",
    "\n",
    "import os\n",
    "import numpy as np\n",
    "import pandas as pd\n",
    "from multi_vector_simulator.utils import analysis\n",
    "\n",
    "\n",
    "def save_result(res, fn, mp):\n",
    "    \"\"\"\n",
    "    \n",
    "    Parameters\n",
    "    ----------\n",
    "    res: dict,\n",
    "        MVS simulation results.\n",
    "    fn: str,\n",
    "        file_name to save the concise results\n",
    "    mp: dict,\n",
    "        dict where we match the path of the changing parameters to be picked within the MVS simulation \n",
    "        and to be saved inside the concise simulation \n",
    "\n",
    "    Returns\n",
    "    -------\n",
    "\n",
    "    \"\"\"\n",
    "    head=[]\n",
    "    bigdata=[]\n",
    "    for i,p in enumerate(res[\"parameters\"]):\n",
    "        data=[]\n",
    "        data.append(p)\n",
    "        for k,v in mp.items():\n",
    "            for vn in v:           \n",
    "                data.append(res[\"outputs\"][i][(k+ (vn,))])\n",
    "                if i == 0:\n",
    "                    if k == (\"kpi\", \"cost_matrix\", \"levelized_cost_of_energy_of_asset\"):\n",
    "                        head.append(\"LCOE_\" + vn) #for the df matrix into dict formatting, usefull to add precisions for columns heads when saved into csv\n",
    "                    elif k == (\"kpi\", \"scalar_matrix\", \"optimizedAddCap\"):\n",
    "                        head.append(\"AddedCap_\" + vn)\n",
    "                    elif k == (\"kpi\", \"scalar_matrix\", \"peak_flow\"):\n",
    "                        head.append(\"Peak_\" + vn)\n",
    "                    else:\n",
    "                        head.append(vn)\n",
    "        bigdata.append(data)\n",
    "    df=pd.DataFrame(bigdata,columns=[\"DOA\"]+ head) #I put title of first column manually here\n",
    "    df.to_csv(fn, index=False) #save into csv \n",
    "\n",
    "op = [\"Degree of autonomy\", \"Onsite energy fraction\", \"Renewable factor\", \"Onsite energy matching\", 'Total_feedin_electricity_equivalent',\n",
    "      \"Total_consumption_from_energy_provider_electricity_equivalent\", 'Levelized costs of electricity equivalent'] #I can put the output parameters that I want to look at here\n",
    "od = [\"PV\", \"Heat_pump\", \"Battery storage capacity\", \"Electric_generator\", \"Heat_generator\"]\n",
    "ot = [\"Transmission_system_operator_consumption_source\", \"Transmission_system_operator_feedin_sink_sink\"]\n",
    "og = [\"PV\", \"Biogas\", \"Battery storage capacity\", \"Electric_generator\", \"Heat_generator\"]\n",
    "parameter_output = {(\"kpi\", \"scalars\"):op,(\"kpi\", \"cost_matrix\", \"levelized_cost_of_energy_of_asset\"):og, \n",
    "                    (\"kpi\", \"scalar_matrix\", \"optimizedAddCap\"):od, (\"kpi\", \"scalar_matrix\", \"peak_flow\"):ot} #path in jason :parmaters dict\n",
    "\n",
    "json_path_to_output_value = []\n",
    "for k,v in parameter_output.items():\n",
    "    for vn in v:\n",
    "        json_path_to_output_value.append(k+ (vn,))\n",
    "json_files = [fn for fn in os.listdir(\".\") if fn.endswith(\".json\")] #need an existing simulation json file to work e.g.: json_input_processed-01\n",
    "for j, file in enumerate(json_files):\n",
    "    res = analysis.single_param_variation_analysis(\n",
    "        [d for d in np.arange(0.05, 1, 0.05)], #1st value, last value + increment, increment\n",
    "        file,\n",
    "        (\"constraints\", \"minimal_degree_of_autonomy\", \"value\"), #What parameter I want to iterate through\n",
    "        json_path_to_output_value=json_path_to_output_value, \n",
    "        output_file = f\"outputs\\json_with_results_{j+1}\"\n",
    "        \n",
    "    )\n",
    "    save_result(res, f\"outputs\\parameter_output_{j+1}.csv\", parameter_output) #can specify a folder path here but it HAS TO EXIST already\n",
    "    \n"
   ]
  },
  {
   "cell_type": "code",
   "execution_count": null,
   "metadata": {},
   "outputs": [],
   "source": [
    "from multi_vector_simulator.utils.constants_json_strings import *\n",
    "from multi_vector_simulator.B0_data_input_json import load_json\n",
    "\n",
    "dict_values = load_json(\"outputs\\json_with_results_1_1.json\")\n",
    "#df = dict_values[KPI][KPI_SCALAR_MATRIX]\n",
    "df = dict_values(\"energyBusses\", \"Transmission grid\", \"Transmission_system_operator_feedin_sink\", \"energyVector\")\n",
    "df"
   ]
  },
  {
   "cell_type": "code",
   "execution_count": 4,
   "metadata": {},
   "outputs": [
    {
     "data": {
      "text/plain": [
       "{'Battery storage capacity': 0.0,\n",
       " 'Battery input power': 0.0,\n",
       " 'Battery output power': 0.0,\n",
       " 'Biogas_reactor': 94920611.4953,\n",
       " 'Heat_pump': 64290952.20494,\n",
       " 'Solar_inverter': 2128250.88,\n",
       " 'Transformer_station_consumption': 5571406.02843,\n",
       " 'Transformer_station_feedin': 0.0,\n",
       " 'Transmission_system_operator_consumption_period': 5803547.94339,\n",
       " 'Wind_turbine_inverter': 5216910.08,\n",
       " 'Biogas': 226001457.7293,\n",
       " 'PV': 2218410.0,\n",
       " 'Transmission_system_operator_consumption_source': 5803547.94339,\n",
       " 'Wind_turbine': 5436866.33331,\n",
       " 'Biogas power plant_excess_sink': 0.0,\n",
       " 'Electric_demand': 36402787.77577,\n",
       " 'Heat_excess_sink': 0.0,\n",
       " 'Low voltage_excess_sink': 0.0,\n",
       " 'Photovoltaic_excess_sink': 1482.0,\n",
       " 'Thermal_demand': 64290952.22579,\n",
       " 'Transmission grid_excess_sink': 0.0,\n",
       " 'Transmission_system_operator_feedin_sink_sink': 0.0,\n",
       " 'Wind turbine_excess_sink': 2584.99999,\n",
       " 'Transmission grid_pdp_excess_sink': 0.0}"
      ]
     },
     "execution_count": 4,
     "metadata": {},
     "output_type": "execute_result"
    }
   ],
   "source": [
    "df.set_index(\"label\").to_dict()[\"annual_total_flow\"]"
   ]
  },
  {
   "cell_type": "code",
   "execution_count": null,
   "metadata": {},
   "outputs": [],
   "source": [
    "op = [\"Degree of autonomy\",\"Renewable factor\", \"Onsite energy fraction\", \"Onsite energy matching\", 'Total_feedin_electricity_equivalent',\n",
    "      \"Total_consumption_from_energy_provider_electricity_equivalent\", 'Levelized costs of electricity equivalent'] #I can put the output parameters that I want to look at here\n",
    "od = [\"PV\",  \"Wind_turbine\"]\n",
    "parameter_output = {(\"kpi\", \"scalars\"):op,(\"kpi\", \"cost_matrix\", \"levelized_cost_of_energy_of_asset\"):od} #path in jason\n",
    "\n",
    "json_path_to_output_value = []\n",
    "for k,v in parameter_output.items():\n",
    "    for vn in v:\n",
    "        json_path_to_output_value.append(k+ (vn,))\n",
    "        print(json_path_to_output_value)"
   ]
  },
  {
   "cell_type": "code",
   "execution_count": null,
   "metadata": {},
   "outputs": [],
   "source": [
    "import os\n",
    "[fn for fn in os.listdir(\".\") if fn.endswith(\".json\")]"
   ]
  },
  {
   "cell_type": "code",
   "execution_count": null,
   "metadata": {},
   "outputs": [],
   "source": [
    "parameter_output.keys()\n"
   ]
  },
  {
   "cell_type": "code",
   "execution_count": null,
   "metadata": {},
   "outputs": [],
   "source": [
    "res.keys()\n"
   ]
  },
  {
   "cell_type": "code",
   "execution_count": null,
   "metadata": {},
   "outputs": [],
   "source": [
    "print(len(res[\"outputs\"]))\n",
    "type(res[\"outputs\"])"
   ]
  },
  {
   "cell_type": "code",
   "execution_count": null,
   "metadata": {},
   "outputs": [],
   "source": [
    "res[\"parameters\"]"
   ]
  },
  {
   "cell_type": "code",
   "execution_count": null,
   "metadata": {},
   "outputs": [],
   "source": [
    "res[\"outputs\"]"
   ]
  },
  {
   "cell_type": "code",
   "execution_count": null,
   "metadata": {},
   "outputs": [],
   "source": [
    "#old method for saving in excel (only one param output dict)\n",
    "import pandas as pd\n",
    "bigdata=[]\n",
    "\n",
    "for i,p in enumerate(res[\"parameters\"]):\n",
    "    data=[]\n",
    "    data.append(p)\n",
    "    for o in op:\n",
    "        data.append(res[\"outputs\"][i][('kpi', 'scalars', o)])\n",
    "    bigdata.append(data)\n",
    "df=pd.DataFrame(bigdata,columns=[\"variable_parameter\"]+op)\n",
    "df.to_csv(\"min_DOA.csv\",index=False) #save into csv "
   ]
  },
  {
   "cell_type": "code",
   "execution_count": null,
   "metadata": {},
   "outputs": [],
   "source": [
    "##Pour avoir nom de fichiers en output\n",
    "banana=[\"name1\", \"name2\"]\n",
    "for of, file in zip(banana, json_files): #with zip it uses smallest of two list : Banana needs to be same length as my matrix (in my example)\n",
    "    res = analysis.single_param_variation_analysis( \n",
    "        [d for d in np.arange(0, 2, 1)], #1st value, last value + increment, increment\n",
    "        file, \n",
    "        (\"constraints\", \"minimal_renewable_factor\", \"value\"), #What parameter I want to iterate\n",
    "        json_path_to_output_value=[(\"kpi\", \"scalars\", o) for o in op], #Check out 'list comprehension' for this special 'for' loop\n",
    "        output_file = f\"outputs\\output_{of}\"\n",
    "        \n",
    "    )"
   ]
  },
  {
   "cell_type": "code",
   "execution_count": null,
   "metadata": {},
   "outputs": [],
   "source": []
  }
 ],
 "metadata": {
  "kernelspec": {
   "display_name": "Python 3",
   "language": "python",
   "name": "python3"
  },
  "language_info": {
   "codemirror_mode": {
    "name": "ipython",
    "version": 3
   },
   "file_extension": ".py",
   "mimetype": "text/x-python",
   "name": "python",
   "nbconvert_exporter": "python",
   "pygments_lexer": "ipython3",
   "version": "3.6.12"
  }
 },
 "nbformat": 4,
 "nbformat_minor": 4
}
